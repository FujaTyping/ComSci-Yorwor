{
  "nbformat": 4,
  "nbformat_minor": 0,
  "metadata": {
    "colab": {
      "provenance": [],
      "collapsed_sections": [
        "NNkCE_yv8yMh",
        "RC9PFPFa-cSR"
      ]
    },
    "kernelspec": {
      "name": "python3",
      "display_name": "Python 3"
    },
    "language_info": {
      "name": "python"
    }
  },
  "cells": [
    {
      "cell_type": "markdown",
      "source": [
        "# Install all package\n",
        "Run all cell press : `Ctrl+F9` or `Runtime > Run all`\n",
        "\n",
        "# And Merge 2 Data"
      ],
      "metadata": {
        "id": "NNkCE_yv8yMh"
      }
    },
    {
      "cell_type": "code",
      "execution_count": null,
      "metadata": {
        "colab": {
          "base_uri": "https://localhost:8080/"
        },
        "id": "g4_6hdFG8nJ-",
        "outputId": "598752d3-b0e6-471f-f03c-4cb2b84a8e1f"
      },
      "outputs": [
        {
          "output_type": "stream",
          "name": "stdout",
          "text": [
            "       ID      Name BloodType  Height  Weight  Class  Number\n",
            "0   34000      Alan         A     175      71      1       1\n",
            "1   34001      Anan         B     160      61      1       2\n",
            "2   34002     Anest         O     162      74      1       3\n",
            "3   34003     Ajeab        AB     180      62      1       4\n",
            "4   34004      Apoj         B     155      66      1       5\n",
            "5   34005      Apae         B     150      70      1       6\n",
            "6   34006     Achan         O     177      61      1       7\n",
            "7   34007     Aying         A     174      79      1       8\n",
            "8   34008     Akung         A     179      70      1       9\n",
            "9   34009    Akrung         O     154      67      1      10\n",
            "10  34010      Aart        AB     176      66      1      11\n",
            "11  34011      Arit         O     156      68      2       1\n",
            "12  34012     Atong         O     180      76      2       2\n",
            "13  34013      Abew         B     173      78      2       3\n",
            "14  34014    Aprach         A     165      70      2       4\n",
            "15  34015      Ajew         A     167      78      2       5\n",
            "16  34016      Agig         O     169      69      2       6\n",
            "17  34017      Ajom         B     171      74      2       7\n",
            "18  34018     Alice         O     173      64      2       8\n",
            "19  34019     Adale         A     150      78      3       1\n",
            "20  34020      Amay         A     150      72      3       2\n",
            "21  34021      Apec         B     173      77      3       3\n",
            "22  34022      Ator         B     157      65      3       4\n",
            "23  34023      Ajim         B     179      78      3       5\n",
            "24  34024    Anelka        AB     175      62      3       6\n",
            "25  34025  Adebayor         A     150      62      3       7\n",
            "26  34026      Aday         A     158      77      3       8\n",
            "27  34027   Abandon         B     179      70      3       9\n",
            "28  34028     Abook         A     159      80      3      10\n",
            "29  34029  Aberdine         O     169      76      3      11\n",
            "30  34030    Araiwa         B     176      63      3      12\n"
          ]
        }
      ],
      "source": [
        "import pandas as pd\n",
        "import matplotlib.pyplot as plt # New package for make graph\n",
        "\n",
        "Url = \"https://github.com/comsciyorwor5/comsci/raw/master/Data1.csv\"\n",
        "Url2 = \"https://github.com/comsciyorwor5/comsci/raw/master/Data2.csv\"\n",
        "\n",
        "Data = pd.read_csv(Url)\n",
        "Data2 = pd.read_csv(Url2)\n",
        "\n",
        "MergeData = Data.merge(Data2)\n",
        "print(MergeData)"
      ]
    },
    {
      "cell_type": "markdown",
      "source": [
        "# Histogram graph"
      ],
      "metadata": {
        "id": "RC9PFPFa-cSR"
      }
    },
    {
      "cell_type": "code",
      "source": [
        "MergeData.Weight.hist(range=[60,80],bins=10)\n",
        "\n",
        "plt.title('Weight Frequency')         # Name\n",
        "plt.xlabel('Weight')                  # X Name\n",
        "plt.ylabel('Frequency')               # Y Name\n",
        "plt.axis([60,80,0,10])                # Range Show X in range 60-80 , Y in range 0-10\n",
        "plt.xticks(range(60,81,2))            # Line a grid in X range 60-80 every 2 Weight\n",
        "plt.show                              # Display graph"
      ],
      "metadata": {
        "colab": {
          "base_uri": "https://localhost:8080/",
          "height": 489
        },
        "id": "euX1GVom-hnw",
        "outputId": "714d04ce-b01f-4fc2-8fbb-f79a054c51fa"
      },
      "execution_count": null,
      "outputs": [
        {
          "output_type": "execute_result",
          "data": {
            "text/plain": [
              "<function matplotlib.pyplot.show(close=None, block=None)>"
            ]
          },
          "metadata": {},
          "execution_count": 12
        },
        {
          "output_type": "display_data",
          "data": {
            "text/plain": [
              "<Figure size 640x480 with 1 Axes>"
            ],
            "image/png": "[encoded data removed]"
          },
          "metadata": {}
        }
      ]
    }
  ]
}