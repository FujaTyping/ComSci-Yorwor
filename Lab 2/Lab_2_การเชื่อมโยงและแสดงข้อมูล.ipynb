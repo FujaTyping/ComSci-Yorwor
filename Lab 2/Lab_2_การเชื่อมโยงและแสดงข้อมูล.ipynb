{
  "nbformat": 4,
  "nbformat_minor": 0,
  "metadata": {
    "colab": {
      "provenance": []
    },
    "kernelspec": {
      "name": "python3",
      "display_name": "Python 3"
    },
    "language_info": {
      "name": "python"
    }
  },
  "cells": [
    {
      "cell_type": "markdown",
      "source": [
        "# Install all package\n",
        "Run all cell press : `Ctrl+F9` or `Runtime > Run all`"
      ],
      "metadata": {
        "id": "FZQtVuTauOSF"
      }
    },
    {
      "cell_type": "code",
      "execution_count": null,
      "metadata": {
        "id": "6BQjk9rUtI-7"
      },
      "outputs": [],
      "source": [
        "import pandas as pd"
      ]
    },
    {
      "cell_type": "markdown",
      "source": [
        "# Section 2.1 แสดงข้อมูลทั้งหมดของการรวมข้อมูล"
      ],
      "metadata": {
        "id": "elNtA2T1u6xu"
      }
    },
    {
      "cell_type": "code",
      "source": [
        "Url = \"https://github.com/comsciyorwor5/comsci/raw/master/Data1.csv\"\n",
        "Url2 = \"https://github.com/comsciyorwor5/comsci/raw/master/Data2.csv\"\n",
        "\n",
        "Data = pd.read_csv(Url)\n",
        "Data2 = pd.read_csv(Url2)\n",
        "\n",
        "MergeData = Data.merge(Data2)\n",
        "print(MergeData)"
      ],
      "metadata": {
        "colab": {
          "base_uri": "https://localhost:8080/"
        },
        "id": "xyX3JgdyuIEf",
        "outputId": "72db194b-9025-4b48-8bee-7f52d6f14f18"
      },
      "execution_count": null,
      "outputs": [
        {
          "output_type": "stream",
          "name": "stdout",
          "text": [
            "       ID      Name BloodType  Height  Weight  Class  Number\n",
            "0   34000      Alan         A     175      71      1       1\n",
            "1   34001      Anan         B     160      61      1       2\n",
            "2   34002     Anest         O     162      74      1       3\n",
            "3   34003     Ajeab        AB     180      62      1       4\n",
            "4   34004      Apoj         B     155      66      1       5\n",
            "5   34005      Apae         B     150      70      1       6\n",
            "6   34006     Achan         O     177      61      1       7\n",
            "7   34007     Aying         A     174      79      1       8\n",
            "8   34008     Akung         A     179      70      1       9\n",
            "9   34009    Akrung         O     154      67      1      10\n",
            "10  34010      Aart        AB     176      66      1      11\n",
            "11  34011      Arit         O     156      68      2       1\n",
            "12  34012     Atong         O     180      76      2       2\n",
            "13  34013      Abew         B     173      78      2       3\n",
            "14  34014    Aprach         A     165      70      2       4\n",
            "15  34015      Ajew         A     167      78      2       5\n",
            "16  34016      Agig         O     169      69      2       6\n",
            "17  34017      Ajom         B     171      74      2       7\n",
            "18  34018     Alice         O     173      64      2       8\n",
            "19  34019     Adale         A     150      78      3       1\n",
            "20  34020      Amay         A     150      72      3       2\n",
            "21  34021      Apec         B     173      77      3       3\n",
            "22  34022      Ator         B     157      65      3       4\n",
            "23  34023      Ajim         B     179      78      3       5\n",
            "24  34024    Anelka        AB     175      62      3       6\n",
            "25  34025  Adebayor         A     150      62      3       7\n",
            "26  34026      Aday         A     158      77      3       8\n",
            "27  34027   Abandon         B     179      70      3       9\n",
            "28  34028     Abook         A     159      80      3      10\n",
            "29  34029  Aberdine         O     169      76      3      11\n",
            "30  34030    Araiwa         B     176      63      3      12\n"
          ]
        }
      ]
    },
    {
      "cell_type": "markdown",
      "source": [
        "# Section 2.2 แสดงข้อมูล ชื่อชั้นเรียน ชื่อนักเรียน และหมู่เลือด"
      ],
      "metadata": {
        "id": "NueNtOAGvUlN"
      }
    },
    {
      "cell_type": "code",
      "source": [
        "print(MergeData[['Class','Name','BloodType']])"
      ],
      "metadata": {
        "colab": {
          "base_uri": "https://localhost:8080/"
        },
        "id": "4JfKh07evcm9",
        "outputId": "f5bbc488-19b2-4784-bdcc-22f2c7f0e658"
      },
      "execution_count": null,
      "outputs": [
        {
          "output_type": "stream",
          "name": "stdout",
          "text": [
            "    Class      Name BloodType\n",
            "0       1      Alan         A\n",
            "1       1      Anan         B\n",
            "2       1     Anest         O\n",
            "3       1     Ajeab        AB\n",
            "4       1      Apoj         B\n",
            "5       1      Apae         B\n",
            "6       1     Achan         O\n",
            "7       1     Aying         A\n",
            "8       1     Akung         A\n",
            "9       1    Akrung         O\n",
            "10      1      Aart        AB\n",
            "11      2      Arit         O\n",
            "12      2     Atong         O\n",
            "13      2      Abew         B\n",
            "14      2    Aprach         A\n",
            "15      2      Ajew         A\n",
            "16      2      Agig         O\n",
            "17      2      Ajom         B\n",
            "18      2     Alice         O\n",
            "19      3     Adale         A\n",
            "20      3      Amay         A\n",
            "21      3      Apec         B\n",
            "22      3      Ator         B\n",
            "23      3      Ajim         B\n",
            "24      3    Anelka        AB\n",
            "25      3  Adebayor         A\n",
            "26      3      Aday         A\n",
            "27      3   Abandon         B\n",
            "28      3     Abook         A\n",
            "29      3  Aberdine         O\n",
            "30      3    Araiwa         B\n"
          ]
        }
      ]
    },
    {
      "cell_type": "markdown",
      "source": [
        "# Section 2.3 แสดงข้อมูล ชื่อชั้นเรียน ชื่อนักเรียน ความสูง และเลขประจําตัว โดยเรียงลําดับตามความสูง จากมากไปน้อย"
      ],
      "metadata": {
        "id": "hIu7TtqJwKem"
      }
    },
    {
      "cell_type": "code",
      "source": [
        "RawData = MergeData[['Class','Name','Height','ID']]\n",
        "NewData = RawData.sort_values(by=['Height'],ascending=False)\n",
        "\n",
        "print(NewData)"
      ],
      "metadata": {
        "colab": {
          "base_uri": "https://localhost:8080/"
        },
        "id": "yvIfydwLwU9O",
        "outputId": "2d20cad0-3414-4bb7-e358-8aac77055267"
      },
      "execution_count": null,
      "outputs": [
        {
          "output_type": "stream",
          "name": "stdout",
          "text": [
            "    Class      Name  Height     ID\n",
            "3       1     Ajeab     180  34003\n",
            "12      2     Atong     180  34012\n",
            "27      3   Abandon     179  34027\n",
            "23      3      Ajim     179  34023\n",
            "8       1     Akung     179  34008\n",
            "6       1     Achan     177  34006\n",
            "30      3    Araiwa     176  34030\n",
            "10      1      Aart     176  34010\n",
            "24      3    Anelka     175  34024\n",
            "0       1      Alan     175  34000\n",
            "7       1     Aying     174  34007\n",
            "13      2      Abew     173  34013\n",
            "18      2     Alice     173  34018\n",
            "21      3      Apec     173  34021\n",
            "17      2      Ajom     171  34017\n",
            "16      2      Agig     169  34016\n",
            "29      3  Aberdine     169  34029\n",
            "15      2      Ajew     167  34015\n",
            "14      2    Aprach     165  34014\n",
            "2       1     Anest     162  34002\n",
            "1       1      Anan     160  34001\n",
            "28      3     Abook     159  34028\n",
            "26      3      Aday     158  34026\n",
            "22      3      Ator     157  34022\n",
            "11      2      Arit     156  34011\n",
            "4       1      Apoj     155  34004\n",
            "9       1    Akrung     154  34009\n",
            "25      3  Adebayor     150  34025\n",
            "5       1      Apae     150  34005\n",
            "19      3     Adale     150  34019\n",
            "20      3      Amay     150  34020\n"
          ]
        }
      ]
    },
    {
      "cell_type": "markdown",
      "source": [
        "# Section 2.4 แสดงข้อมูล ชื่อชั้นเรียน เลขที่ ชื่อนักเรียน และ น้ําหนัก เรียงตามชื่อชั้นเรียน จาก น้อยไปมาก"
      ],
      "metadata": {
        "id": "MnsyPdpjxD5N"
      }
    },
    {
      "cell_type": "code",
      "source": [
        "RawData = MergeData[['Class','Number','Name','Weight']]\n",
        "NewData = RawData.sort_values(by=['Class'],ascending=True)\n",
        "\n",
        "print(NewData)"
      ],
      "metadata": {
        "colab": {
          "base_uri": "https://localhost:8080/"
        },
        "id": "dU_cBLqzxJtN",
        "outputId": "fc851dd3-6f5b-43ad-e0df-4e168b7fb8a7"
      },
      "execution_count": null,
      "outputs": [
        {
          "output_type": "stream",
          "name": "stdout",
          "text": [
            "    Class  Number      Name  Weight\n",
            "0       1       1      Alan      71\n",
            "1       1       2      Anan      61\n",
            "2       1       3     Anest      74\n",
            "3       1       4     Ajeab      62\n",
            "4       1       5      Apoj      66\n",
            "5       1       6      Apae      70\n",
            "6       1       7     Achan      61\n",
            "7       1       8     Aying      79\n",
            "8       1       9     Akung      70\n",
            "9       1      10    Akrung      67\n",
            "10      1      11      Aart      66\n",
            "18      2       8     Alice      64\n",
            "17      2       7      Ajom      74\n",
            "16      2       6      Agig      69\n",
            "15      2       5      Ajew      78\n",
            "13      2       3      Abew      78\n",
            "12      2       2     Atong      76\n",
            "11      2       1      Arit      68\n",
            "14      2       4    Aprach      70\n",
            "29      3      11  Aberdine      76\n",
            "19      3       1     Adale      78\n",
            "20      3       2      Amay      72\n",
            "21      3       3      Apec      77\n",
            "22      3       4      Ator      65\n",
            "23      3       5      Ajim      78\n",
            "24      3       6    Anelka      62\n",
            "25      3       7  Adebayor      62\n",
            "26      3       8      Aday      77\n",
            "27      3       9   Abandon      70\n",
            "28      3      10     Abook      80\n",
            "30      3      12    Araiwa      63\n"
          ]
        }
      ]
    },
    {
      "cell_type": "markdown",
      "source": [
        "# Section 2.5 แสดงค่าน้ําหนักเฉลี่ยแยกตามหมู่เลือด"
      ],
      "metadata": {
        "id": "8ibwho1ex4Ud"
      }
    },
    {
      "cell_type": "code",
      "source": [
        "WeightData = MergeData[['Weight','BloodType']]\n",
        "NewData = WeightData.sort_values(by=['Weight'],ascending=True)\n",
        "\n",
        "print(NewData.groupby('BloodType').Weight.mean())"
      ],
      "metadata": {
        "colab": {
          "base_uri": "https://localhost:8080/"
        },
        "id": "gLL1ZH_1x8RQ",
        "outputId": "9e5dafc1-ee5f-4498-83b3-bcbac1036082"
      },
      "execution_count": null,
      "outputs": [
        {
          "output_type": "stream",
          "name": "stdout",
          "text": [
            "BloodType\n",
            "A     73.700000\n",
            "AB    63.333333\n",
            "B     70.200000\n",
            "O     69.375000\n",
            "Name: Weight, dtype: float64\n"
          ]
        }
      ]
    },
    {
      "cell_type": "markdown",
      "source": [
        "# Section 2.6 แสดงจํานวนข้อมูลทั้งหมด"
      ],
      "metadata": {
        "id": "xfAHD_Yz1PMn"
      }
    },
    {
      "cell_type": "code",
      "source": [
        "print(MergeData.count())"
      ],
      "metadata": {
        "colab": {
          "base_uri": "https://localhost:8080/"
        },
        "id": "7C5eN3J21aOu",
        "outputId": "604fc5d8-9b73-4478-c790-500a89893d30"
      },
      "execution_count": null,
      "outputs": [
        {
          "output_type": "stream",
          "name": "stdout",
          "text": [
            "ID           31\n",
            "Name         31\n",
            "BloodType    31\n",
            "Height       31\n",
            "Weight       31\n",
            "Class        31\n",
            "Number       31\n",
            "dtype: int64\n"
          ]
        }
      ]
    },
    {
      "cell_type": "markdown",
      "source": [
        "# Section 2.7 แสดงค่าความสูงของคนที่สูงที่สุดในแต่ละ ชั้นเรียน"
      ],
      "metadata": {
        "id": "Moici9MF1wO2"
      }
    },
    {
      "cell_type": "code",
      "source": [
        "HeightData = MergeData[['Height','Class']]\n",
        "NewData = HeightData.sort_values(by=['Height'],ascending=False)\n",
        "\n",
        "print(NewData.groupby('Class').Height.max())"
      ],
      "metadata": {
        "colab": {
          "base_uri": "https://localhost:8080/"
        },
        "id": "dWlsR0BV14NN",
        "outputId": "bd5c3044-d208-4080-f4fc-ccb5381e6d02"
      },
      "execution_count": null,
      "outputs": [
        {
          "output_type": "stream",
          "name": "stdout",
          "text": [
            "Class\n",
            "1    180\n",
            "2    180\n",
            "3    179\n",
            "Name: Height, dtype: int64\n"
          ]
        }
      ]
    },
    {
      "cell_type": "markdown",
      "source": [
        "# Section 2.8 แสดงชื่อนักเรียนและน้ําหนักนักเรียนที่มีน้ําหนักตั้งแต่ 60 กิโลกรัมขึ้นไป"
      ],
      "metadata": {
        "id": "GhO4OQIS3Fpu"
      }
    },
    {
      "cell_type": "code",
      "source": [
        "NameData = MergeData[['Name','Weight']]\n",
        "NewData = NameData.sort_values(by=['Weight'],ascending=True)\n",
        "\n",
        "print(NewData[NewData.Weight>=60])"
      ],
      "metadata": {
        "colab": {
          "base_uri": "https://localhost:8080/"
        },
        "id": "zSY0XxFi3SIu",
        "outputId": "35a05ead-1d9d-4eaa-a4e3-93cdbc84defa"
      },
      "execution_count": null,
      "outputs": [
        {
          "output_type": "stream",
          "name": "stdout",
          "text": [
            "        Name  Weight\n",
            "1       Anan      61\n",
            "6      Achan      61\n",
            "3      Ajeab      62\n",
            "24    Anelka      62\n",
            "25  Adebayor      62\n",
            "30    Araiwa      63\n",
            "18     Alice      64\n",
            "22      Ator      65\n",
            "4       Apoj      66\n",
            "10      Aart      66\n",
            "9     Akrung      67\n",
            "11      Arit      68\n",
            "16      Agig      69\n",
            "27   Abandon      70\n",
            "14    Aprach      70\n",
            "5       Apae      70\n",
            "8      Akung      70\n",
            "0       Alan      71\n",
            "20      Amay      72\n",
            "2      Anest      74\n",
            "17      Ajom      74\n",
            "29  Aberdine      76\n",
            "12     Atong      76\n",
            "21      Apec      77\n",
            "26      Aday      77\n",
            "19     Adale      78\n",
            "13      Abew      78\n",
            "23      Ajim      78\n",
            "15      Ajew      78\n",
            "7      Aying      79\n",
            "28     Abook      80\n"
          ]
        }
      ]
    },
    {
      "cell_type": "markdown",
      "source": [
        "#>> Original : 18_10_สิรภพ สุขชู (52647@hatyaiwit.ac.th) <<\n",
        "\n"
      ],
      "metadata": {
        "id": "kgWzZFdd9Phw"
      }
    }
  ]
}